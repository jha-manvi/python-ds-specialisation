{
 "cells": [
  {
   "cell_type": "code",
   "execution_count": 102,
   "id": "03869457",
   "metadata": {},
   "outputs": [],
   "source": [
    "import pandas as pd"
   ]
  },
  {
   "cell_type": "code",
   "execution_count": 103,
   "id": "fac25b4e",
   "metadata": {},
   "outputs": [],
   "source": [
    "students = ['Alice','Molly','Jack']"
   ]
  },
  {
   "cell_type": "code",
   "execution_count": 104,
   "id": "01d3ce4a",
   "metadata": {},
   "outputs": [
    {
     "data": {
      "text/plain": [
       "0    Alice\n",
       "1    Molly\n",
       "2     Jack\n",
       "dtype: object"
      ]
     },
     "execution_count": 104,
     "metadata": {},
     "output_type": "execute_result"
    }
   ],
   "source": [
    "pd.Series(students)"
   ]
  },
  {
   "cell_type": "code",
   "execution_count": 105,
   "id": "4a8efd0d",
   "metadata": {},
   "outputs": [],
   "source": [
    "numbers = [1,2,3]"
   ]
  },
  {
   "cell_type": "code",
   "execution_count": 106,
   "id": "7380bf8f",
   "metadata": {},
   "outputs": [
    {
     "data": {
      "text/plain": [
       "0    1\n",
       "1    2\n",
       "2    3\n",
       "dtype: int64"
      ]
     },
     "execution_count": 106,
     "metadata": {},
     "output_type": "execute_result"
    }
   ],
   "source": [
    "pd.Series(numbers)"
   ]
  },
  {
   "cell_type": "code",
   "execution_count": 107,
   "id": "46415047",
   "metadata": {},
   "outputs": [],
   "source": [
    "students = ['Alice','Molly',None]"
   ]
  },
  {
   "cell_type": "code",
   "execution_count": 108,
   "id": "027d088e",
   "metadata": {},
   "outputs": [
    {
     "data": {
      "text/plain": [
       "0    Alice\n",
       "1    Molly\n",
       "2     None\n",
       "dtype: object"
      ]
     },
     "execution_count": 108,
     "metadata": {},
     "output_type": "execute_result"
    }
   ],
   "source": [
    "pd.Series(students)"
   ]
  },
  {
   "cell_type": "code",
   "execution_count": 109,
   "id": "f233f465",
   "metadata": {},
   "outputs": [],
   "source": [
    "numbers = [1,2,None]"
   ]
  },
  {
   "cell_type": "code",
   "execution_count": 110,
   "id": "bfaba896",
   "metadata": {},
   "outputs": [
    {
     "data": {
      "text/plain": [
       "0    1.0\n",
       "1    2.0\n",
       "2    NaN\n",
       "dtype: float64"
      ]
     },
     "execution_count": 110,
     "metadata": {},
     "output_type": "execute_result"
    }
   ],
   "source": [
    "pd.Series(numbers)"
   ]
  },
  {
   "cell_type": "code",
   "execution_count": 111,
   "id": "859778b0",
   "metadata": {},
   "outputs": [],
   "source": [
    "import numpy as np"
   ]
  },
  {
   "cell_type": "code",
   "execution_count": 112,
   "id": "63a79dd2",
   "metadata": {},
   "outputs": [
    {
     "data": {
      "text/plain": [
       "False"
      ]
     },
     "execution_count": 112,
     "metadata": {},
     "output_type": "execute_result"
    }
   ],
   "source": [
    "np.nan == None"
   ]
  },
  {
   "cell_type": "code",
   "execution_count": 113,
   "id": "2b18c2db",
   "metadata": {},
   "outputs": [
    {
     "data": {
      "text/plain": [
       "False"
      ]
     },
     "execution_count": 113,
     "metadata": {},
     "output_type": "execute_result"
    }
   ],
   "source": [
    "np.nan == np.nan"
   ]
  },
  {
   "cell_type": "code",
   "execution_count": 114,
   "id": "87b09d5e",
   "metadata": {},
   "outputs": [
    {
     "data": {
      "text/plain": [
       "True"
      ]
     },
     "execution_count": 114,
     "metadata": {},
     "output_type": "execute_result"
    }
   ],
   "source": [
    "np.isnan(np.nan)"
   ]
  },
  {
   "cell_type": "code",
   "execution_count": 115,
   "id": "b4707842",
   "metadata": {},
   "outputs": [],
   "source": [
    "students_scores = {'Alice':'Physics',\n",
    "                  'Jack':'Chemistry',\n",
    "                  'Molly':'English'}"
   ]
  },
  {
   "cell_type": "code",
   "execution_count": 116,
   "id": "85aa72d1",
   "metadata": {},
   "outputs": [],
   "source": [
    "s= pd.Series(students_scores)"
   ]
  },
  {
   "cell_type": "code",
   "execution_count": 117,
   "id": "1453c611",
   "metadata": {},
   "outputs": [
    {
     "data": {
      "text/plain": [
       "Alice      Physics\n",
       "Jack     Chemistry\n",
       "Molly      English\n",
       "dtype: object"
      ]
     },
     "execution_count": 117,
     "metadata": {},
     "output_type": "execute_result"
    }
   ],
   "source": [
    "s"
   ]
  },
  {
   "cell_type": "code",
   "execution_count": 118,
   "id": "fc048ddf",
   "metadata": {},
   "outputs": [
    {
     "data": {
      "text/plain": [
       "Index(['Alice', 'Jack', 'Molly'], dtype='object')"
      ]
     },
     "execution_count": 118,
     "metadata": {},
     "output_type": "execute_result"
    }
   ],
   "source": [
    "s.index"
   ]
  },
  {
   "cell_type": "code",
   "execution_count": 119,
   "id": "f830e052",
   "metadata": {},
   "outputs": [],
   "source": [
    "students = [('Alice','Brown'),('Jack','White'),('Molly','Green')]"
   ]
  },
  {
   "cell_type": "code",
   "execution_count": 120,
   "id": "26efef72",
   "metadata": {},
   "outputs": [
    {
     "data": {
      "text/plain": [
       "0    (Alice, Brown)\n",
       "1     (Jack, White)\n",
       "2    (Molly, Green)\n",
       "dtype: object"
      ]
     },
     "execution_count": 120,
     "metadata": {},
     "output_type": "execute_result"
    }
   ],
   "source": [
    "pd.Series(students)"
   ]
  },
  {
   "cell_type": "code",
   "execution_count": 121,
   "id": "8cc651df",
   "metadata": {},
   "outputs": [],
   "source": [
    "students_scores = {'Alice':'Physics',\n",
    "                  'Jack':'Chemistry',\n",
    "                  'Molly':'English'}"
   ]
  },
  {
   "cell_type": "code",
   "execution_count": 122,
   "id": "bf4d6dd3",
   "metadata": {},
   "outputs": [],
   "source": [
    "s=pd.Series(students_scores, index=['Alice','Jack','Molly'])"
   ]
  },
  {
   "cell_type": "code",
   "execution_count": 123,
   "id": "08616714",
   "metadata": {},
   "outputs": [
    {
     "data": {
      "text/plain": [
       "Alice      Physics\n",
       "Jack     Chemistry\n",
       "Molly      English\n",
       "dtype: object"
      ]
     },
     "execution_count": 123,
     "metadata": {},
     "output_type": "execute_result"
    }
   ],
   "source": [
    "s"
   ]
  },
  {
   "cell_type": "code",
   "execution_count": 124,
   "id": "e9deb8a5",
   "metadata": {},
   "outputs": [],
   "source": [
    "students_class = {'Alice':'Physics',\n",
    "                 'Jack':'Chemistry',\n",
    "                 'Molly':'English',\n",
    "                 'Sam':'History'}"
   ]
  },
  {
   "cell_type": "code",
   "execution_count": 125,
   "id": "4299c2ab",
   "metadata": {},
   "outputs": [
    {
     "data": {
      "text/plain": [
       "{'Alice': 'Physics', 'Jack': 'Chemistry', 'Molly': 'English', 'Sam': 'History'}"
      ]
     },
     "execution_count": 125,
     "metadata": {},
     "output_type": "execute_result"
    }
   ],
   "source": [
    "students_class"
   ]
  },
  {
   "cell_type": "code",
   "execution_count": 126,
   "id": "ed386fbf",
   "metadata": {},
   "outputs": [],
   "source": [
    "s=pd.Series(students_class)"
   ]
  },
  {
   "cell_type": "code",
   "execution_count": 127,
   "id": "310c89fd",
   "metadata": {},
   "outputs": [
    {
     "data": {
      "text/plain": [
       "Alice      Physics\n",
       "Jack     Chemistry\n",
       "Molly      English\n",
       "Sam        History\n",
       "dtype: object"
      ]
     },
     "execution_count": 127,
     "metadata": {},
     "output_type": "execute_result"
    }
   ],
   "source": [
    "s"
   ]
  },
  {
   "cell_type": "code",
   "execution_count": 128,
   "id": "c928aa7b",
   "metadata": {},
   "outputs": [
    {
     "data": {
      "text/plain": [
       "'History'"
      ]
     },
     "execution_count": 128,
     "metadata": {},
     "output_type": "execute_result"
    }
   ],
   "source": [
    "s.iloc[3]"
   ]
  },
  {
   "cell_type": "code",
   "execution_count": 129,
   "id": "1c63cfa4",
   "metadata": {},
   "outputs": [
    {
     "data": {
      "text/plain": [
       "'English'"
      ]
     },
     "execution_count": 129,
     "metadata": {},
     "output_type": "execute_result"
    }
   ],
   "source": [
    "s.loc['Molly']"
   ]
  },
  {
   "cell_type": "code",
   "execution_count": 130,
   "id": "08f1ac7e",
   "metadata": {},
   "outputs": [
    {
     "data": {
      "text/plain": [
       "'History'"
      ]
     },
     "execution_count": 130,
     "metadata": {},
     "output_type": "execute_result"
    }
   ],
   "source": [
    "s[3]"
   ]
  },
  {
   "cell_type": "code",
   "execution_count": 131,
   "id": "2511ed83",
   "metadata": {},
   "outputs": [
    {
     "data": {
      "text/plain": [
       "'English'"
      ]
     },
     "execution_count": 131,
     "metadata": {},
     "output_type": "execute_result"
    }
   ],
   "source": [
    "s['Molly']"
   ]
  },
  {
   "cell_type": "code",
   "execution_count": 138,
   "id": "9fd05593",
   "metadata": {},
   "outputs": [],
   "source": [
    "grades = pd.Series([90,80,70,60])"
   ]
  },
  {
   "cell_type": "code",
   "execution_count": 139,
   "id": "61af4366",
   "metadata": {},
   "outputs": [],
   "source": [
    "total = 0"
   ]
  },
  {
   "cell_type": "code",
   "execution_count": 142,
   "id": "8674c850",
   "metadata": {},
   "outputs": [
    {
     "name": "stdout",
     "output_type": "stream",
     "text": [
      "75.0\n"
     ]
    }
   ],
   "source": [
    "for grade in grades:\n",
    "    total+=grade\n",
    "print(total/len(grades))"
   ]
  },
  {
   "cell_type": "code",
   "execution_count": 143,
   "id": "903ef2b4",
   "metadata": {},
   "outputs": [],
   "source": [
    "total = np.sum(grades)"
   ]
  },
  {
   "cell_type": "code",
   "execution_count": 144,
   "id": "3e1ff569",
   "metadata": {},
   "outputs": [
    {
     "name": "stdout",
     "output_type": "stream",
     "text": [
      "75.0\n"
     ]
    }
   ],
   "source": [
    "print(total/len(grades))"
   ]
  },
  {
   "cell_type": "code",
   "execution_count": 146,
   "id": "c3fd655e",
   "metadata": {},
   "outputs": [],
   "source": [
    "numbers = pd.Series(np.random.randint(0,1000,10000))"
   ]
  },
  {
   "cell_type": "code",
   "execution_count": 147,
   "id": "b416d4ef",
   "metadata": {},
   "outputs": [
    {
     "data": {
      "text/plain": [
       "0    361\n",
       "1    164\n",
       "2    371\n",
       "3     67\n",
       "4    918\n",
       "dtype: int64"
      ]
     },
     "execution_count": 147,
     "metadata": {},
     "output_type": "execute_result"
    }
   ],
   "source": [
    "numbers.head()"
   ]
  },
  {
   "cell_type": "code",
   "execution_count": 148,
   "id": "0ef2bdf1",
   "metadata": {},
   "outputs": [
    {
     "data": {
      "text/plain": [
       "10000"
      ]
     },
     "execution_count": 148,
     "metadata": {},
     "output_type": "execute_result"
    }
   ],
   "source": [
    "len(numbers)"
   ]
  },
  {
   "cell_type": "code",
   "execution_count": 153,
   "id": "d43f0bc3",
   "metadata": {},
   "outputs": [
    {
     "name": "stdout",
     "output_type": "stream",
     "text": [
      "The slowest run took 4.40 times longer than the fastest. This could mean that an intermediate result is being cached.\n",
      "68.9 µs ± 34.7 µs per loop (mean ± std. dev. of 7 runs, 100 loops each)\n"
     ]
    }
   ],
   "source": [
    "%%timeit -n 100\n",
    "total = np.sum(numbers)\n",
    "total/len(numbers)\n"
   ]
  },
  {
   "cell_type": "code",
   "execution_count": 154,
   "id": "290df2a6",
   "metadata": {},
   "outputs": [
    {
     "data": {
      "text/plain": [
       "0    361\n",
       "1    164\n",
       "2    371\n",
       "3     67\n",
       "4    918\n",
       "dtype: int64"
      ]
     },
     "execution_count": 154,
     "metadata": {},
     "output_type": "execute_result"
    }
   ],
   "source": [
    "numbers.head()"
   ]
  },
  {
   "cell_type": "code",
   "execution_count": 156,
   "id": "2fcaf071",
   "metadata": {},
   "outputs": [
    {
     "data": {
      "text/plain": [
       "0    363\n",
       "1    166\n",
       "2    373\n",
       "3     69\n",
       "4    920\n",
       "dtype: int64"
      ]
     },
     "execution_count": 156,
     "metadata": {},
     "output_type": "execute_result"
    }
   ],
   "source": [
    "numbers += 2\n",
    "numbers.head()"
   ]
  },
  {
   "cell_type": "code",
   "execution_count": 170,
   "id": "db586694",
   "metadata": {},
   "outputs": [],
   "source": [
    "for label, value in numbers.iteritems():\n",
    "    numbers.at[label]=value+2"
   ]
  },
  {
   "cell_type": "code",
   "execution_count": 171,
   "id": "773c151f",
   "metadata": {},
   "outputs": [
    {
     "data": {
      "text/plain": [
       "0    365\n",
       "1    168\n",
       "2    375\n",
       "3     71\n",
       "4    922\n",
       "dtype: int64"
      ]
     },
     "execution_count": 171,
     "metadata": {},
     "output_type": "execute_result"
    }
   ],
   "source": [
    "numbers.head()"
   ]
  },
  {
   "cell_type": "code",
   "execution_count": 191,
   "id": "db587470",
   "metadata": {},
   "outputs": [],
   "source": [
    "p=pd.Series(np.random.randint(0,1000,1000))"
   ]
  },
  {
   "cell_type": "code",
   "execution_count": 192,
   "id": "1b573ba0",
   "metadata": {},
   "outputs": [
    {
     "data": {
      "text/plain": [
       "0       83\n",
       "1      127\n",
       "2       65\n",
       "3      630\n",
       "4      782\n",
       "      ... \n",
       "995    501\n",
       "996    849\n",
       "997     14\n",
       "998    852\n",
       "999    994\n",
       "Length: 1000, dtype: int64"
      ]
     },
     "execution_count": 192,
     "metadata": {},
     "output_type": "execute_result"
    }
   ],
   "source": [
    "p"
   ]
  },
  {
   "cell_type": "code",
   "execution_count": 193,
   "id": "3420f88d",
   "metadata": {},
   "outputs": [],
   "source": [
    "for label, value in p.iteritems():\n",
    "    p.loc[label] = value+2"
   ]
  },
  {
   "cell_type": "code",
   "execution_count": 194,
   "id": "8c18f839",
   "metadata": {},
   "outputs": [
    {
     "data": {
      "text/plain": [
       "0     85\n",
       "1    129\n",
       "2     67\n",
       "3    632\n",
       "4    784\n",
       "dtype: int64"
      ]
     },
     "execution_count": 194,
     "metadata": {},
     "output_type": "execute_result"
    }
   ],
   "source": [
    "p.head()"
   ]
  },
  {
   "cell_type": "code",
   "execution_count": 195,
   "id": "054c63c0",
   "metadata": {},
   "outputs": [
    {
     "data": {
      "text/plain": [
       "Alice      Physics\n",
       "Jack     Chemistry\n",
       "Molly      English\n",
       "Sam        History\n",
       "dtype: object"
      ]
     },
     "execution_count": 195,
     "metadata": {},
     "output_type": "execute_result"
    }
   ],
   "source": [
    "s"
   ]
  },
  {
   "cell_type": "code",
   "execution_count": 196,
   "id": "a4f1e4b8",
   "metadata": {},
   "outputs": [],
   "source": [
    "s.loc['History'] = 102"
   ]
  },
  {
   "cell_type": "code",
   "execution_count": 197,
   "id": "92acf338",
   "metadata": {},
   "outputs": [
    {
     "data": {
      "text/plain": [
       "Alice        Physics\n",
       "Jack       Chemistry\n",
       "Molly        English\n",
       "Sam          History\n",
       "History          102\n",
       "dtype: object"
      ]
     },
     "execution_count": 197,
     "metadata": {},
     "output_type": "execute_result"
    }
   ],
   "source": [
    "s"
   ]
  },
  {
   "cell_type": "code",
   "execution_count": 198,
   "id": "c96f2904",
   "metadata": {},
   "outputs": [
    {
     "data": {
      "text/plain": [
       "[('Alice', 'Brown'), ('Jack', 'White'), ('Molly', 'Green')]"
      ]
     },
     "execution_count": 198,
     "metadata": {},
     "output_type": "execute_result"
    }
   ],
   "source": [
    "students"
   ]
  },
  {
   "cell_type": "code",
   "execution_count": 199,
   "id": "3abf21fa",
   "metadata": {},
   "outputs": [],
   "source": [
    "students_class = pd.Series({'Alice':'Physics',\n",
    "                 'Jack':'Chemistry',\n",
    "                 'Molly':'English',\n",
    "                 'Sam':'History'})"
   ]
  },
  {
   "cell_type": "code",
   "execution_count": 203,
   "id": "b13295a8",
   "metadata": {},
   "outputs": [],
   "source": [
    "kelly_class = pd.Series(['Philosophy','Arts','Maths'], index=['Kelly','Kelly','Kelly'])"
   ]
  },
  {
   "cell_type": "code",
   "execution_count": 204,
   "id": "d5495aa2",
   "metadata": {},
   "outputs": [
    {
     "data": {
      "text/plain": [
       "Kelly    Philosophy\n",
       "Kelly          Arts\n",
       "Kelly         Maths\n",
       "dtype: object"
      ]
     },
     "execution_count": 204,
     "metadata": {},
     "output_type": "execute_result"
    }
   ],
   "source": [
    "kelly_class"
   ]
  },
  {
   "cell_type": "code",
   "execution_count": 205,
   "id": "2366d001",
   "metadata": {},
   "outputs": [],
   "source": [
    "all_stud = students_class.append(kelly_class)"
   ]
  },
  {
   "cell_type": "code",
   "execution_count": 206,
   "id": "d558c2c8",
   "metadata": {},
   "outputs": [
    {
     "data": {
      "text/plain": [
       "Alice       Physics\n",
       "Jack      Chemistry\n",
       "Molly       English\n",
       "Sam         History\n",
       "Kelly    Philosophy\n",
       "Kelly          Arts\n",
       "Kelly         Maths\n",
       "dtype: object"
      ]
     },
     "execution_count": 206,
     "metadata": {},
     "output_type": "execute_result"
    }
   ],
   "source": [
    "all_stud"
   ]
  },
  {
   "cell_type": "code",
   "execution_count": 207,
   "id": "abb26aa3",
   "metadata": {},
   "outputs": [
    {
     "data": {
      "text/plain": [
       "Kelly    Philosophy\n",
       "Kelly          Arts\n",
       "Kelly         Maths\n",
       "dtype: object"
      ]
     },
     "execution_count": 207,
     "metadata": {},
     "output_type": "execute_result"
    }
   ],
   "source": [
    "all_stud.loc['Kelly']"
   ]
  },
  {
   "cell_type": "code",
   "execution_count": null,
   "id": "b3571be5",
   "metadata": {},
   "outputs": [],
   "source": []
  }
 ],
 "metadata": {
  "kernelspec": {
   "display_name": "Python 3",
   "language": "python",
   "name": "python3"
  },
  "language_info": {
   "codemirror_mode": {
    "name": "ipython",
    "version": 3
   },
   "file_extension": ".py",
   "mimetype": "text/x-python",
   "name": "python",
   "nbconvert_exporter": "python",
   "pygments_lexer": "ipython3",
   "version": "3.8.8"
  }
 },
 "nbformat": 4,
 "nbformat_minor": 5
}
