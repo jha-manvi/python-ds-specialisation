{
 "cells": [
  {
   "cell_type": "code",
   "execution_count": 1,
   "id": "9933a7ea",
   "metadata": {},
   "outputs": [],
   "source": [
    "#Python Functions"
   ]
  },
  {
   "cell_type": "code",
   "execution_count": 3,
   "id": "c30579b9",
   "metadata": {},
   "outputs": [],
   "source": [
    "def add_num(a,b):\n",
    "    return a+b"
   ]
  },
  {
   "cell_type": "code",
   "execution_count": 4,
   "id": "6442865d",
   "metadata": {},
   "outputs": [
    {
     "data": {
      "text/plain": [
       "9"
      ]
     },
     "execution_count": 4,
     "metadata": {},
     "output_type": "execute_result"
    }
   ],
   "source": [
    "add_num(4,5)"
   ]
  },
  {
   "cell_type": "code",
   "execution_count": 5,
   "id": "a7e72dbf",
   "metadata": {},
   "outputs": [],
   "source": [
    "c=add_num(5,6)"
   ]
  },
  {
   "cell_type": "code",
   "execution_count": 6,
   "id": "b26de386",
   "metadata": {},
   "outputs": [
    {
     "data": {
      "text/plain": [
       "11"
      ]
     },
     "execution_count": 6,
     "metadata": {},
     "output_type": "execute_result"
    }
   ],
   "source": [
    "c"
   ]
  },
  {
   "cell_type": "code",
   "execution_count": 7,
   "id": "c8cf987c",
   "metadata": {},
   "outputs": [],
   "source": [
    "d=add_num"
   ]
  },
  {
   "cell_type": "code",
   "execution_count": 8,
   "id": "3f4e24af",
   "metadata": {},
   "outputs": [
    {
     "data": {
      "text/plain": [
       "15"
      ]
     },
     "execution_count": 8,
     "metadata": {},
     "output_type": "execute_result"
    }
   ],
   "source": [
    "d(7,8)"
   ]
  },
  {
   "cell_type": "code",
   "execution_count": 9,
   "id": "2911291c",
   "metadata": {},
   "outputs": [],
   "source": [
    "#Python Types and Sequences"
   ]
  },
  {
   "cell_type": "code",
   "execution_count": 11,
   "id": "a8b25c00",
   "metadata": {},
   "outputs": [
    {
     "name": "stdout",
     "output_type": "stream",
     "text": [
      "<class 'str'>\n",
      "<class 'int'>\n",
      "<class 'float'>\n",
      "<class 'list'>\n",
      "<class 'str'>\n"
     ]
    }
   ],
   "source": [
    "print(type('This'))\n",
    "print(type(2))\n",
    "print(type(2.3))\n",
    "print(type([1,2]))\n",
    "print(type('2'))"
   ]
  },
  {
   "cell_type": "code",
   "execution_count": 12,
   "id": "98a22efe",
   "metadata": {},
   "outputs": [
    {
     "name": "stdout",
     "output_type": "stream",
     "text": [
      "<class 'function'>\n"
     ]
    }
   ],
   "source": [
    "print(type(add_num))"
   ]
  },
  {
   "cell_type": "code",
   "execution_count": 14,
   "id": "7c72ff1c",
   "metadata": {},
   "outputs": [],
   "source": [
    "x=(1,'2',3,4)\n",
    "y=[1,'2',3,4]"
   ]
  },
  {
   "cell_type": "code",
   "execution_count": 15,
   "id": "e6b0e62a",
   "metadata": {},
   "outputs": [
    {
     "data": {
      "text/plain": [
       "tuple"
      ]
     },
     "execution_count": 15,
     "metadata": {},
     "output_type": "execute_result"
    }
   ],
   "source": [
    "type(x)"
   ]
  },
  {
   "cell_type": "code",
   "execution_count": 16,
   "id": "c99515e4",
   "metadata": {},
   "outputs": [
    {
     "data": {
      "text/plain": [
       "list"
      ]
     },
     "execution_count": 16,
     "metadata": {},
     "output_type": "execute_result"
    }
   ],
   "source": [
    "type(y)"
   ]
  },
  {
   "cell_type": "code",
   "execution_count": 18,
   "id": "63a4ab7f",
   "metadata": {},
   "outputs": [],
   "source": [
    "y.append(3.3)"
   ]
  },
  {
   "cell_type": "code",
   "execution_count": 19,
   "id": "962acf20",
   "metadata": {},
   "outputs": [
    {
     "data": {
      "text/plain": [
       "[1, '2', 3, 4, 3.3]"
      ]
     },
     "execution_count": 19,
     "metadata": {},
     "output_type": "execute_result"
    }
   ],
   "source": [
    "#Tuple cannot be changed , Lists can be changed\n",
    "y"
   ]
  },
  {
   "cell_type": "code",
   "execution_count": 20,
   "id": "224c4385",
   "metadata": {},
   "outputs": [],
   "source": [
    "#Loops"
   ]
  },
  {
   "cell_type": "code",
   "execution_count": 21,
   "id": "c719856a",
   "metadata": {},
   "outputs": [
    {
     "name": "stdout",
     "output_type": "stream",
     "text": [
      "1\n",
      "2\n",
      "3\n",
      "4\n",
      "3.3\n"
     ]
    }
   ],
   "source": [
    "for item in y:\n",
    "    print(item)"
   ]
  },
  {
   "cell_type": "code",
   "execution_count": 22,
   "id": "21098ba0",
   "metadata": {},
   "outputs": [
    {
     "name": "stdout",
     "output_type": "stream",
     "text": [
      "1\n",
      "2\n",
      "3\n",
      "4\n",
      "3.3\n"
     ]
    }
   ],
   "source": [
    "i=0\n",
    "while(i<len(y)):\n",
    "    print(y[i])\n",
    "    i=i+1"
   ]
  },
  {
   "cell_type": "code",
   "execution_count": 25,
   "id": "426b5c82",
   "metadata": {},
   "outputs": [
    {
     "data": {
      "text/plain": [
       "[1, 2, 3, 4]"
      ]
     },
     "execution_count": 25,
     "metadata": {},
     "output_type": "execute_result"
    }
   ],
   "source": [
    "#Some operations\n",
    "# + sign concatenates lists , * sign repeats lists\n",
    "\n",
    "[1,2] + [3,4]"
   ]
  },
  {
   "cell_type": "code",
   "execution_count": 29,
   "id": "875f9ca8",
   "metadata": {},
   "outputs": [
    {
     "data": {
      "text/plain": [
       "[1, 1, 1]"
      ]
     },
     "execution_count": 29,
     "metadata": {},
     "output_type": "execute_result"
    }
   ],
   "source": [
    "[1] * 3"
   ]
  },
  {
   "cell_type": "code",
   "execution_count": 31,
   "id": "ebe820f4",
   "metadata": {},
   "outputs": [
    {
     "data": {
      "text/plain": [
       "True"
      ]
     },
     "execution_count": 31,
     "metadata": {},
     "output_type": "execute_result"
    }
   ],
   "source": [
    "#Boolean operation \n",
    "\n",
    "1 in [2,3,4,5,1,6]"
   ]
  },
  {
   "cell_type": "code",
   "execution_count": 32,
   "id": "4029b321",
   "metadata": {},
   "outputs": [
    {
     "data": {
      "text/plain": [
       "False"
      ]
     },
     "execution_count": 32,
     "metadata": {},
     "output_type": "execute_result"
    }
   ],
   "source": [
    "1 in [2,3,4]"
   ]
  },
  {
   "cell_type": "code",
   "execution_count": 33,
   "id": "a251b31e",
   "metadata": {},
   "outputs": [],
   "source": [
    "#Slicing"
   ]
  },
  {
   "cell_type": "code",
   "execution_count": 34,
   "id": "ad308d91",
   "metadata": {},
   "outputs": [],
   "source": [
    "x='This is a string'"
   ]
  },
  {
   "cell_type": "code",
   "execution_count": 35,
   "id": "05a76b1b",
   "metadata": {},
   "outputs": [
    {
     "name": "stdout",
     "output_type": "stream",
     "text": [
      "T\n",
      "T\n",
      "Thi\n"
     ]
    }
   ],
   "source": [
    "print(x[0])\n",
    "print(x[0:1])\n",
    "print(x[0:3])"
   ]
  },
  {
   "cell_type": "code",
   "execution_count": 36,
   "id": "4a1fdca6",
   "metadata": {},
   "outputs": [
    {
     "data": {
      "text/plain": [
       "'g'"
      ]
     },
     "execution_count": 36,
     "metadata": {},
     "output_type": "execute_result"
    }
   ],
   "source": [
    "x[-1]"
   ]
  },
  {
   "cell_type": "code",
   "execution_count": 39,
   "id": "60e69500",
   "metadata": {},
   "outputs": [
    {
     "data": {
      "text/plain": [
       "'ri'"
      ]
     },
     "execution_count": 39,
     "metadata": {},
     "output_type": "execute_result"
    }
   ],
   "source": [
    "x[-4:-2]"
   ]
  },
  {
   "cell_type": "code",
   "execution_count": 40,
   "id": "4027ef4a",
   "metadata": {},
   "outputs": [
    {
     "data": {
      "text/plain": [
       "'Thi'"
      ]
     },
     "execution_count": 40,
     "metadata": {},
     "output_type": "execute_result"
    }
   ],
   "source": [
    "x[:3]"
   ]
  },
  {
   "cell_type": "code",
   "execution_count": 41,
   "id": "c2dec0c2",
   "metadata": {},
   "outputs": [
    {
     "data": {
      "text/plain": [
       "'s is a string'"
      ]
     },
     "execution_count": 41,
     "metadata": {},
     "output_type": "execute_result"
    }
   ],
   "source": [
    "x[3:]"
   ]
  },
  {
   "cell_type": "code",
   "execution_count": 52,
   "id": "f201c5a9",
   "metadata": {},
   "outputs": [],
   "source": [
    "fname = 'Manvi'\n",
    "lname = 'Jha'"
   ]
  },
  {
   "cell_type": "code",
   "execution_count": 53,
   "id": "68d28eeb",
   "metadata": {},
   "outputs": [
    {
     "name": "stdout",
     "output_type": "stream",
     "text": [
      "ManviJha\n",
      "ManviManviManvi\n"
     ]
    }
   ],
   "source": [
    "print(fname + '' + lname)\n",
    "print(fname * 3)"
   ]
  },
  {
   "cell_type": "code",
   "execution_count": 45,
   "id": "09370254",
   "metadata": {},
   "outputs": [
    {
     "name": "stdout",
     "output_type": "stream",
     "text": [
      "True\n"
     ]
    }
   ],
   "source": [
    "print('Man' in fname)"
   ]
  },
  {
   "cell_type": "code",
   "execution_count": 58,
   "id": "868d40a2",
   "metadata": {},
   "outputs": [
    {
     "name": "stdout",
     "output_type": "stream",
     "text": [
      "Manvi\n",
      "Jha\n"
     ]
    }
   ],
   "source": [
    "fname='Manvi Jha Kittu'.split(' ')[0]\n",
    "lname='Manvi Jha Kittu Jha'.split(' ')[-1]\n",
    "print(fname)\n",
    "print(lname)"
   ]
  },
  {
   "cell_type": "code",
   "execution_count": 59,
   "id": "65e6067d",
   "metadata": {},
   "outputs": [],
   "source": [
    "#Dictionary\n",
    "\n",
    "x={'a':'a@a.com','b':'b@a.com','c':'c@a.com'}"
   ]
  },
  {
   "cell_type": "code",
   "execution_count": 62,
   "id": "69c8fd9b",
   "metadata": {},
   "outputs": [
    {
     "name": "stdout",
     "output_type": "stream",
     "text": [
      "a@a.com\n",
      "b@a.com\n",
      "c@a.com\n"
     ]
    }
   ],
   "source": [
    "for name in x:\n",
    "    print(x[name])"
   ]
  },
  {
   "cell_type": "code",
   "execution_count": 64,
   "id": "d186f946",
   "metadata": {},
   "outputs": [
    {
     "name": "stdout",
     "output_type": "stream",
     "text": [
      "a@a.com\n",
      "b@a.com\n",
      "c@a.com\n"
     ]
    }
   ],
   "source": [
    "for email in x.values():\n",
    "    print(email)"
   ]
  },
  {
   "cell_type": "code",
   "execution_count": 67,
   "id": "207ce6e7",
   "metadata": {},
   "outputs": [
    {
     "name": "stdout",
     "output_type": "stream",
     "text": [
      "a\n",
      "a@a.com\n",
      "b\n",
      "b@a.com\n",
      "c\n",
      "c@a.com\n"
     ]
    }
   ],
   "source": [
    "for name,email in x.items():\n",
    "    print(name)\n",
    "    print(email)"
   ]
  },
  {
   "cell_type": "code",
   "execution_count": 69,
   "id": "24a566b6",
   "metadata": {},
   "outputs": [],
   "source": [
    "#Classes\n",
    "\n",
    "class Person:\n",
    "    department = 'IT'\n",
    "    \n",
    "    def set_name(self,new_name):\n",
    "        self.name=new_name\n",
    "    def set_location(self,new_loc):\n",
    "        self.loc=new_loc"
   ]
  },
  {
   "cell_type": "code",
   "execution_count": 70,
   "id": "d139845e",
   "metadata": {},
   "outputs": [],
   "source": [
    "#Lambda Function\n",
    "\n",
    "my_func =lambda a,b,c : a+b"
   ]
  },
  {
   "cell_type": "code",
   "execution_count": 71,
   "id": "922eda5f",
   "metadata": {},
   "outputs": [
    {
     "data": {
      "text/plain": [
       "5"
      ]
     },
     "execution_count": 71,
     "metadata": {},
     "output_type": "execute_result"
    }
   ],
   "source": [
    "my_func(1,4,7)"
   ]
  },
  {
   "cell_type": "code",
   "execution_count": 72,
   "id": "b1347298",
   "metadata": {},
   "outputs": [],
   "source": [
    "#List Comprehension\n",
    "\n",
    "lowercase='abcdefghij'\n",
    "num='123456789'\n",
    "\n",
    "answer = [a+b+c+d for a in lowercase for b in lowercase for c in num for d in num]"
   ]
  },
  {
   "cell_type": "code",
   "execution_count": 75,
   "id": "c36f69ef",
   "metadata": {},
   "outputs": [
    {
     "data": {
      "text/plain": [
       "['aa11', 'aa12', 'aa13', 'aa14', 'aa15']"
      ]
     },
     "execution_count": 75,
     "metadata": {},
     "output_type": "execute_result"
    }
   ],
   "source": [
    "answer[:5]"
   ]
  },
  {
   "cell_type": "code",
   "execution_count": null,
   "id": "bedd5896",
   "metadata": {},
   "outputs": [],
   "source": []
  }
 ],
 "metadata": {
  "kernelspec": {
   "display_name": "Python 3",
   "language": "python",
   "name": "python3"
  },
  "language_info": {
   "codemirror_mode": {
    "name": "ipython",
    "version": 3
   },
   "file_extension": ".py",
   "mimetype": "text/x-python",
   "name": "python",
   "nbconvert_exporter": "python",
   "pygments_lexer": "ipython3",
   "version": "3.8.8"
  }
 },
 "nbformat": 4,
 "nbformat_minor": 5
}
